{
 "cells": [
  {
   "cell_type": "code",
   "execution_count": null,
   "metadata": {
    "id": "aAjiPFmGwuyy"
   },
   "outputs": [],
   "source": [
    "# ! pip install pmdarima"
   ]
  },
  {
   "cell_type": "markdown",
   "metadata": {
    "id": "G3eJ9bwqt3_z"
   },
   "source": [
    "# Import Essentials"
   ]
  },
  {
   "cell_type": "code",
   "execution_count": 1,
   "metadata": {
    "id": "xIBK9djP62uH"
   },
   "outputs": [],
   "source": [
    "import numpy as np\n",
    "import pandas as pd\n",
    "import seaborn as sns\n",
    "import matplotlib.pyplot as plt"
   ]
  },
  {
   "cell_type": "markdown",
   "metadata": {
    "id": "4tsOwSpnuXZu"
   },
   "source": [
    "# Load Data set"
   ]
  },
  {
   "cell_type": "code",
   "execution_count": 3,
   "metadata": {
    "colab": {
     "base_uri": "https://localhost:8080/",
     "height": 206
    },
    "id": "SPRQeSPH62sC",
    "outputId": "cefdfb6e-30d6-4ceb-dde8-758ef8a0336c"
   },
   "outputs": [
    {
     "data": {
      "text/html": [
       "<div>\n",
       "<style scoped>\n",
       "    .dataframe tbody tr th:only-of-type {\n",
       "        vertical-align: middle;\n",
       "    }\n",
       "\n",
       "    .dataframe tbody tr th {\n",
       "        vertical-align: top;\n",
       "    }\n",
       "\n",
       "    .dataframe thead th {\n",
       "        text-align: right;\n",
       "    }\n",
       "</style>\n",
       "<table border=\"1\" class=\"dataframe\">\n",
       "  <thead>\n",
       "    <tr style=\"text-align: right;\">\n",
       "      <th></th>\n",
       "      <th>date</th>\n",
       "      <th>device</th>\n",
       "      <th>failure</th>\n",
       "      <th>metric1</th>\n",
       "      <th>metric2</th>\n",
       "      <th>metric3</th>\n",
       "      <th>metric4</th>\n",
       "      <th>metric5</th>\n",
       "      <th>metric6</th>\n",
       "      <th>metric7</th>\n",
       "      <th>metric8</th>\n",
       "      <th>metric9</th>\n",
       "    </tr>\n",
       "  </thead>\n",
       "  <tbody>\n",
       "    <tr>\n",
       "      <th>0</th>\n",
       "      <td>1/1/2015</td>\n",
       "      <td>S1F01085</td>\n",
       "      <td>0</td>\n",
       "      <td>215630672</td>\n",
       "      <td>55</td>\n",
       "      <td>0</td>\n",
       "      <td>52</td>\n",
       "      <td>6</td>\n",
       "      <td>407438</td>\n",
       "      <td>0</td>\n",
       "      <td>0</td>\n",
       "      <td>7</td>\n",
       "    </tr>\n",
       "    <tr>\n",
       "      <th>1</th>\n",
       "      <td>1/1/2015</td>\n",
       "      <td>S1F0166B</td>\n",
       "      <td>0</td>\n",
       "      <td>61370680</td>\n",
       "      <td>0</td>\n",
       "      <td>3</td>\n",
       "      <td>0</td>\n",
       "      <td>6</td>\n",
       "      <td>403174</td>\n",
       "      <td>0</td>\n",
       "      <td>0</td>\n",
       "      <td>0</td>\n",
       "    </tr>\n",
       "    <tr>\n",
       "      <th>2</th>\n",
       "      <td>1/1/2015</td>\n",
       "      <td>S1F01E6Y</td>\n",
       "      <td>0</td>\n",
       "      <td>173295968</td>\n",
       "      <td>0</td>\n",
       "      <td>0</td>\n",
       "      <td>0</td>\n",
       "      <td>12</td>\n",
       "      <td>237394</td>\n",
       "      <td>0</td>\n",
       "      <td>0</td>\n",
       "      <td>0</td>\n",
       "    </tr>\n",
       "    <tr>\n",
       "      <th>3</th>\n",
       "      <td>1/1/2015</td>\n",
       "      <td>S1F01JE0</td>\n",
       "      <td>0</td>\n",
       "      <td>79694024</td>\n",
       "      <td>0</td>\n",
       "      <td>0</td>\n",
       "      <td>0</td>\n",
       "      <td>6</td>\n",
       "      <td>410186</td>\n",
       "      <td>0</td>\n",
       "      <td>0</td>\n",
       "      <td>0</td>\n",
       "    </tr>\n",
       "    <tr>\n",
       "      <th>4</th>\n",
       "      <td>1/1/2015</td>\n",
       "      <td>S1F01R2B</td>\n",
       "      <td>0</td>\n",
       "      <td>135970480</td>\n",
       "      <td>0</td>\n",
       "      <td>0</td>\n",
       "      <td>0</td>\n",
       "      <td>15</td>\n",
       "      <td>313173</td>\n",
       "      <td>0</td>\n",
       "      <td>0</td>\n",
       "      <td>3</td>\n",
       "    </tr>\n",
       "  </tbody>\n",
       "</table>\n",
       "</div>"
      ],
      "text/plain": [
       "       date    device  failure    metric1  metric2  metric3  metric4  metric5  \\\n",
       "0  1/1/2015  S1F01085        0  215630672       55        0       52        6   \n",
       "1  1/1/2015  S1F0166B        0   61370680        0        3        0        6   \n",
       "2  1/1/2015  S1F01E6Y        0  173295968        0        0        0       12   \n",
       "3  1/1/2015  S1F01JE0        0   79694024        0        0        0        6   \n",
       "4  1/1/2015  S1F01R2B        0  135970480        0        0        0       15   \n",
       "\n",
       "   metric6  metric7  metric8  metric9  \n",
       "0   407438        0        0        7  \n",
       "1   403174        0        0        0  \n",
       "2   237394        0        0        0  \n",
       "3   410186        0        0        0  \n",
       "4   313173        0        0        3  "
      ]
     },
     "execution_count": 3,
     "metadata": {},
     "output_type": "execute_result"
    }
   ],
   "source": [
    "dataset_initial = pd.read_csv('../Dataset/predictive_maintenance_dataset.csv')\n",
    "dataset_initial.head()"
   ]
  },
  {
   "cell_type": "code",
   "execution_count": 4,
   "metadata": {
    "id": "7WtdtcUCz6Lt"
   },
   "outputs": [],
   "source": [
    "numeric_cols = ['metric1', 'metric2', 'metric3', 'metric4', 'metric5', 'metric6', 'metric7', 'metric8', 'metric9']"
   ]
  },
  {
   "cell_type": "markdown",
   "metadata": {
    "id": "NlAfX3Uqubht"
   },
   "source": [
    "# Descriptive Analysis\n",
    "\n",
    "\n",
    "1.   Dataset Information\n",
    "2.   Categorical feature and discriptive information\n",
    "\n"
   ]
  },
  {
   "cell_type": "markdown",
   "metadata": {
    "id": "pISFuUPlwzmU"
   },
   "source": [
    "## Dataset Information"
   ]
  },
  {
   "cell_type": "code",
   "execution_count": 5,
   "metadata": {
    "colab": {
     "base_uri": "https://localhost:8080/"
    },
    "id": "tEv28P4LAT0u",
    "outputId": "c3fb606c-7f52-4127-9aad-0b50842fa0b5"
   },
   "outputs": [
    {
     "name": "stdout",
     "output_type": "stream",
     "text": [
      "<class 'pandas.core.frame.DataFrame'>\n",
      "RangeIndex: 124494 entries, 0 to 124493\n",
      "Data columns (total 12 columns):\n",
      " #   Column   Non-Null Count   Dtype \n",
      "---  ------   --------------   ----- \n",
      " 0   date     124494 non-null  object\n",
      " 1   device   124494 non-null  object\n",
      " 2   failure  124494 non-null  int64 \n",
      " 3   metric1  124494 non-null  int64 \n",
      " 4   metric2  124494 non-null  int64 \n",
      " 5   metric3  124494 non-null  int64 \n",
      " 6   metric4  124494 non-null  int64 \n",
      " 7   metric5  124494 non-null  int64 \n",
      " 8   metric6  124494 non-null  int64 \n",
      " 9   metric7  124494 non-null  int64 \n",
      " 10  metric8  124494 non-null  int64 \n",
      " 11  metric9  124494 non-null  int64 \n",
      "dtypes: int64(10), object(2)\n",
      "memory usage: 11.4+ MB\n"
     ]
    }
   ],
   "source": [
    "dataset_initial.info()"
   ]
  },
  {
   "cell_type": "markdown",
   "metadata": {
    "id": "qQzoYrHmwr7t"
   },
   "source": [
    "## Categorical feature and discriptive information"
   ]
  },
  {
   "cell_type": "code",
   "execution_count": 6,
   "metadata": {
    "colab": {
     "base_uri": "https://localhost:8080/",
     "height": 489
    },
    "id": "LhNjOR5i62pY",
    "outputId": "e0e4f1da-2f8f-4285-d8cf-8084cc49a9d4"
   },
   "outputs": [
    {
     "data": {
      "text/plain": [
       "device\n",
       "S1F0E9EP    304\n",
       "S1F0EGMT    304\n",
       "Z1F0QL3N    304\n",
       "W1F0SJJ2    304\n",
       "Z1F0QLC1    304\n",
       "           ... \n",
       "S1F0A1PX      5\n",
       "Z1F19VF5      5\n",
       "S1F04KSC      4\n",
       "W1F0WJFT      3\n",
       "W1F1DA5ÿ      1\n",
       "Name: count, Length: 1169, dtype: int64"
      ]
     },
     "execution_count": 6,
     "metadata": {},
     "output_type": "execute_result"
    }
   ],
   "source": [
    "dataset_initial['device'].value_counts()"
   ]
  },
  {
   "cell_type": "markdown",
   "metadata": {},
   "source": [
    "# Just Group up the data with respective to the machine_name : Z1F0QLC1 wich has 304 data points."
   ]
  },
  {
   "cell_type": "code",
   "execution_count": null,
   "metadata": {
    "id": "DaSTOYSt62hv"
   },
   "outputs": [],
   "source": [
    "# Make a copy of the original dataset before doing all manupulation.\n",
    "Z1F0QLC1_Dataset = dataset_initial.copy(deep=True)\n",
    "\n",
    "\n",
    "Z1F0QLC1_Dataset = Z1F0QLC1_Dataset[Z1F0QLC1_Dataset['device'] == 'Z1F0QLC1']\n",
    "Z1F0QLC1_Dataset.head()"
   ]
  },
  {
   "cell_type": "markdown",
   "metadata": {},
   "source": [
    "# Visualize the numerical paramater observed for the devies\n",
    "\n",
    "NOTE : The data not having any information about what are all data paramanters are collected from the machines, just mentioed that metric1, metric2 , metric3,....,metricN"
   ]
  },
  {
   "cell_type": "code",
   "execution_count": null,
   "metadata": {
    "colab": {
     "base_uri": "https://localhost:8080/",
     "height": 1000
    },
    "id": "DkHF-mru6BtB",
    "outputId": "2c4fb2c1-6bc9-44cb-fa68-dbf8354a8a26"
   },
   "outputs": [],
   "source": [
    "for features in numeric_cols:\n",
    "    plt.figure(figsize=(20, 8))\n",
    "    sns.histplot(data=Z1F0QLC1_Dataset[features], kde=True)\n",
    "    plt.xlabel(features)\n",
    "    plt.ylabel('Count')\n",
    "    plt.show()"
   ]
  },
  {
   "cell_type": "markdown",
   "metadata": {},
   "source": [
    "# Prepeare The data for forecasting\n",
    "\n",
    "The Data for forecating has `date` column and the specific feature that needed to be forecasted here `metric5`"
   ]
  },
  {
   "cell_type": "code",
   "execution_count": null,
   "metadata": {
    "colab": {
     "base_uri": "https://localhost:8080/",
     "height": 206
    },
    "id": "WVXky_qG7vcb",
    "outputId": "7a282c79-b64b-4838-8a62-1cf57659e8e7"
   },
   "outputs": [],
   "source": [
    "new_data = Z1F0QLC1_Dataset[['date', 'metric5']]\n",
    "new_data.reset_index(drop=True)\n",
    "new_data.head()"
   ]
  },
  {
   "cell_type": "markdown",
   "metadata": {},
   "source": [
    "# Date time pre-processing"
   ]
  },
  {
   "cell_type": "code",
   "execution_count": null,
   "metadata": {
    "colab": {
     "base_uri": "https://localhost:8080/",
     "height": 423
    },
    "id": "ePrPovY89ywJ",
    "outputId": "a1cedcb0-a0bb-4bd5-ae99-7d9ca311f23a"
   },
   "outputs": [],
   "source": [
    "new_data['date']= pd.to_datetime(new_data['date'], format='%m/%d/%Y')\n",
    "new_data.set_index('date', inplace=True)\n",
    "new_data.head()"
   ]
  },
  {
   "cell_type": "code",
   "execution_count": null,
   "metadata": {
    "colab": {
     "base_uri": "https://localhost:8080/",
     "height": 697
    },
    "id": "d77wjlJeIS0Z",
    "outputId": "d7d728d1-f62d-484a-d89b-041bcc3bb5b0"
   },
   "outputs": [],
   "source": [
    "new_data['metric5'].rolling(window=7).mean().plot(figsize=(20, 10))"
   ]
  },
  {
   "cell_type": "markdown",
   "metadata": {},
   "source": [
    "# Special Train test Split-up process for time series dataset"
   ]
  },
  {
   "cell_type": "code",
   "execution_count": null,
   "metadata": {
    "colab": {
     "base_uri": "https://localhost:8080/"
    },
    "id": "aIyNeeW1mbv3",
    "outputId": "8c336e42-e3a2-4652-c836-8ba1b26092a5"
   },
   "outputs": [],
   "source": [
    "valueCount = new_data.count()\n",
    "valueOf80 = valueCount*0.95\n",
    "valueOf80 = valueOf80.astype('int')\n",
    "val = valueOf80[0]\n",
    "print(type(val))\n",
    "trainSet = new_data.iloc[:val]\n",
    "testSet = new_data.iloc[val:]"
   ]
  },
  {
   "cell_type": "code",
   "execution_count": null,
   "metadata": {
    "colab": {
     "base_uri": "https://localhost:8080/"
    },
    "id": "qmAQl3lTp7r4",
    "outputId": "cbd56d88-d2b9-4862-fa94-4e4d7fa64b18"
   },
   "outputs": [],
   "source": [
    "print(trainSet.count())\n",
    "print(testSet.count())"
   ]
  },
  {
   "cell_type": "markdown",
   "metadata": {},
   "source": [
    "# Moving average for `weekly` window"
   ]
  },
  {
   "cell_type": "code",
   "execution_count": null,
   "metadata": {
    "colab": {
     "base_uri": "https://localhost:8080/",
     "height": 488
    },
    "id": "u5BHH6GFp9tU",
    "outputId": "3f0c675a-ae45-4099-ca9f-67b5a0a5cb55"
   },
   "outputs": [],
   "source": [
    "moving_average = trainSet.rolling(\n",
    "    window=7,       # 365-day window\n",
    "    center=True,      # puts the average at the center of the window\n",
    "    min_periods=1,  # choose about half the window size\n",
    ").mean()              # compute the mean (could also do median, std, min, max, ...)\n",
    "\n",
    "ax = trainSet.plot(style=\".\", color=\"0.5\")\n",
    "moving_average.plot(\n",
    "    ax=ax, linewidth=3, title=\"SOME METRIC\", legend=False,\n",
    ");"
   ]
  },
  {
   "cell_type": "markdown",
   "metadata": {},
   "source": [
    "# Moving average for `monthly` window"
   ]
  },
  {
   "cell_type": "code",
   "execution_count": null,
   "metadata": {},
   "outputs": [],
   "source": [
    "moving_average = trainSet.rolling(\n",
    "    window=30,       # 365-day window\n",
    "    center=True,      # puts the average at the center of the window\n",
    "    min_periods=1,  # choose about half the window size\n",
    ").mean()              # compute the mean (could also do median, std, min, max, ...)\n",
    "\n",
    "ax = trainSet.plot(style=\".\", color=\"0.5\")\n",
    "moving_average.plot(\n",
    "    ax=ax, linewidth=3, title=\"SOME METRIC\", legend=False,\n",
    ");"
   ]
  },
  {
   "cell_type": "markdown",
   "metadata": {},
   "source": [
    "# Using the deterministic process going to create dummy variable X wich adapts the `trend` component of the data"
   ]
  },
  {
   "cell_type": "code",
   "execution_count": null,
   "metadata": {
    "colab": {
     "base_uri": "https://localhost:8080/",
     "height": 237
    },
    "id": "O3AncqDnqemq",
    "outputId": "2d97c555-ae35-4ec8-fef2-4f58550e829b"
   },
   "outputs": [],
   "source": [
    "from statsmodels.tsa.deterministic import DeterministicProcess\n",
    "\n",
    "dp = DeterministicProcess(\n",
    "    index=trainSet.index, \n",
    "    constant=True,       \n",
    "    order=1,             \n",
    "    drop=True,           \n",
    ")\n",
    "\n",
    "X_train = dp.in_sample()\n",
    "\n",
    "X_train.head()"
   ]
  },
  {
   "cell_type": "code",
   "execution_count": null,
   "metadata": {},
   "outputs": [],
   "source": [
    "# Target variable\n",
    "y_train = trainSet[\"metric5\"] "
   ]
  },
  {
   "cell_type": "code",
   "execution_count": null,
   "metadata": {
    "id": "Adn1k5wiq02b"
   },
   "outputs": [],
   "source": [
    "from sklearn.linear_model import LinearRegression\n",
    "\n",
    "\n",
    "# The intercept is the same as the `const` feature from\n",
    "# DeterministicProcess. LinearRegression behaves badly with duplicated\n",
    "# features, so we need to be sure to exclude it here.\n",
    "model = LinearRegression(fit_intercept=False)\n",
    "model.fit(X_train, y_train)\n",
    "\n",
    "y_pred = pd.Series(model.predict(X_train), index=X_train.index)"
   ]
  },
  {
   "cell_type": "markdown",
   "metadata": {},
   "source": [
    "# Ploting the `True train set` vs `Predicted train set`"
   ]
  },
  {
   "cell_type": "code",
   "execution_count": null,
   "metadata": {},
   "outputs": [],
   "source": [
    "trainSet.plot()"
   ]
  },
  {
   "cell_type": "code",
   "execution_count": null,
   "metadata": {},
   "outputs": [],
   "source": [
    "y_pred.plot()"
   ]
  },
  {
   "cell_type": "markdown",
   "metadata": {},
   "source": [
    "# Creating the Dummy for the `testSet` made during the splitup"
   ]
  },
  {
   "cell_type": "code",
   "execution_count": null,
   "metadata": {
    "id": "fjXdWHY7rLEm"
   },
   "outputs": [],
   "source": [
    "X_test_Dummy = dp.out_of_sample(steps=16,forecast_index=pd.date_range(start='2015-09-01', periods=16, freq=None))\n",
    "X_test_Dummy"
   ]
  },
  {
   "cell_type": "code",
   "execution_count": null,
   "metadata": {
    "colab": {
     "base_uri": "https://localhost:8080/",
     "height": 551
    },
    "id": "bf2CyQYSt8A4",
    "outputId": "38a6b435-0e3f-49dd-9a33-ac3f1d9e51a6"
   },
   "outputs": [],
   "source": [
    "Forecast_output_test = pd.Series(model.predict(X_test_Dummy), index=testSet.index)"
   ]
  },
  {
   "cell_type": "markdown",
   "metadata": {},
   "source": [
    "# Ploting the `True test set` vs `Predicted test set`"
   ]
  },
  {
   "cell_type": "code",
   "execution_count": null,
   "metadata": {
    "id": "TkXWaChXsit-"
   },
   "outputs": [],
   "source": [
    "Forecast_output_test.plot()"
   ]
  },
  {
   "cell_type": "code",
   "execution_count": null,
   "metadata": {
    "colab": {
     "base_uri": "https://localhost:8080/",
     "height": 461
    },
    "id": "g-XWh_yFt-PA",
    "outputId": "518f7628-ec78-4b03-e73e-e9b800982630"
   },
   "outputs": [],
   "source": [
    "testSet.plot()"
   ]
  },
  {
   "cell_type": "markdown",
   "metadata": {},
   "source": [
    "# Trail for AutoML technique for time series models"
   ]
  },
  {
   "cell_type": "code",
   "execution_count": null,
   "metadata": {
    "colab": {
     "base_uri": "https://localhost:8080/"
    },
    "id": "Q8VQIWuCxMnN",
    "outputId": "e32ff006-fe15-4c0b-eed1-fdbba725538c"
   },
   "outputs": [],
   "source": [
    "from pmdarima.arima import auto_arima\n",
    "arima_model =  auto_arima(trainSet,start_p=0, d=2, start_q=0,\n",
    "                          max_p=5, max_d=5, max_q=5, start_P=0,\n",
    "                          D=1, start_Q=0, max_P=5, max_D=5,\n",
    "                          max_Q=5, m=1, seasonal=False,\n",
    "                          error_action='warn',trace = True,\n",
    "                          supress_warnings=True,stepwise = True,n_fits = 100)"
   ]
  },
  {
   "cell_type": "markdown",
   "metadata": {},
   "source": [
    "# AutoML Forecast"
   ]
  },
  {
   "cell_type": "code",
   "execution_count": null,
   "metadata": {
    "colab": {
     "base_uri": "https://localhost:8080/"
    },
    "id": "Eo9f9P_sxxbY",
    "outputId": "25eac500-b0cd-4dd9-b5c7-b7f5fdb62a63"
   },
   "outputs": [],
   "source": [
    "forecastValue_16 = arima_model.predict(16, alpha=0.05)\n",
    "forecastValue_16 = forecastValue_16.astype(int)\n",
    "print(forecastValue_16.shape)"
   ]
  },
  {
   "cell_type": "markdown",
   "metadata": {},
   "source": [
    "# Plotting the `AutoML Forecast` testSet VS `testSet`"
   ]
  },
  {
   "cell_type": "code",
   "execution_count": null,
   "metadata": {
    "colab": {
     "base_uri": "https://localhost:8080/",
     "height": 479
    },
    "id": "u9hZO0PgyybX",
    "outputId": "b6e75d48-4463-4993-f194-adef20a62dba"
   },
   "outputs": [],
   "source": [
    "forecastValue_16.plot(kind='line')"
   ]
  },
  {
   "cell_type": "code",
   "execution_count": null,
   "metadata": {
    "colab": {
     "base_uri": "https://localhost:8080/",
     "height": 461
    },
    "id": "ISh-yvWyzDXR",
    "outputId": "8a25188b-5450-4601-ed69-ba4f348609a2"
   },
   "outputs": [],
   "source": [
    "testSet.plot(kind='line')"
   ]
  },
  {
   "cell_type": "code",
   "execution_count": null,
   "metadata": {
    "colab": {
     "base_uri": "https://localhost:8080/"
    },
    "id": "8Hwm8TN63oVn",
    "outputId": "5dbd7d3c-10a2-4f75-9cb2-6555fecb3c7c"
   },
   "outputs": [],
   "source": [
    "from sklearn.metrics import mean_squared_error, explained_variance_score, mean_absolute_error, root_mean_squared_error\n",
    "print(\"Mean absolute error : \",mean_absolute_error(testSet.values.reshape(16,), forecastValue_16.values))\n",
    "print(\"Root mean square Error : \", root_mean_squared_error(testSet.values.reshape(16,), forecastValue_16.values))\n",
    "print(\"Mean squared Error : \", mean_squared_error(testSet.values.reshape(16,), forecastValue_16.values))\n",
    "print(\"Explained varience score : \",explained_variance_score(testSet.values.reshape(16,), forecastValue_16.values))"
   ]
  },
  {
   "cell_type": "markdown",
   "metadata": {},
   "source": [
    "# Mean Values"
   ]
  },
  {
   "cell_type": "code",
   "execution_count": null,
   "metadata": {
    "colab": {
     "base_uri": "https://localhost:8080/"
    },
    "id": "4-0ut4Au4bxN",
    "outputId": "72334a1f-473a-4716-dd24-b236978162cf"
   },
   "outputs": [],
   "source": [
    "testSet.values.reshape(16,).mean()"
   ]
  },
  {
   "cell_type": "code",
   "execution_count": null,
   "metadata": {
    "colab": {
     "base_uri": "https://localhost:8080/"
    },
    "id": "4p9ADKjm40zf",
    "outputId": "f3d91892-804c-4512-b56c-c483fce199e3"
   },
   "outputs": [],
   "source": [
    "forecastValue_16.values.mean()"
   ]
  }
 ],
 "metadata": {
  "colab": {
   "provenance": []
  },
  "kernelspec": {
   "display_name": ".venv",
   "language": "python",
   "name": "python3"
  },
  "language_info": {
   "codemirror_mode": {
    "name": "ipython",
    "version": 3
   },
   "file_extension": ".py",
   "mimetype": "text/x-python",
   "name": "python",
   "nbconvert_exporter": "python",
   "pygments_lexer": "ipython3",
   "version": "3.10.15"
  }
 },
 "nbformat": 4,
 "nbformat_minor": 0
}
